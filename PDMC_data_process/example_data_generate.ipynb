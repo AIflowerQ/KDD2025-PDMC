{
 "cells": [
  {
   "cell_type": "code",
   "execution_count": 1,
   "id": "a2a023e0",
   "metadata": {},
   "outputs": [],
   "source": [
    "import numpy as np\n",
    "import pandas as pd\n",
    "from scipy.special import expit as sigmoid  # sigmoid function\n",
    "import matplotlib.pyplot as plt\n",
    "\n",
    "np.random.seed(17373522)"
   ]
  },
  {
   "cell_type": "code",
   "execution_count": 2,
   "id": "64f07965",
   "metadata": {},
   "outputs": [],
   "source": [
    "def plot_distribution(data, bins=30, color='blue', title='Distribution of Data', xlabel='Values', ylabel='Frequency'):\n",
    "    \"\"\"\n",
    "    Function to plot the distribution of a numpy array using a histogram.\n",
    "\n",
    "    Parameters:\n",
    "    - data: numpy array, the data to plot.\n",
    "    - bins: int, number of bins for the histogram.\n",
    "    - color: str, color of the histogram.\n",
    "    - title: str, title of the plot.\n",
    "    - xlabel: str, label for the x-axis.\n",
    "    - ylabel: str, label for the y-axis.\n",
    "    \"\"\"\n",
    "    plt.figure(figsize=(8, 5))\n",
    "    plt.hist(data, bins=bins, density=True, alpha=0.6, color=color, label='Histogram')\n",
    "    plt.title(title)\n",
    "    plt.xlabel(xlabel)\n",
    "    plt.ylabel(ylabel)\n",
    "    plt.legend()\n",
    "    plt.grid(True)\n",
    "    plt.show()\n",
    "\n",
    "    \n",
    "def old_new_plt(data1, data2):\n",
    "    data = np.concatenate((data1, data2))\n",
    "    plot_distribution(data)"
   ]
  },
  {
   "cell_type": "code",
   "execution_count": 3,
   "id": "a9dcfa07",
   "metadata": {},
   "outputs": [],
   "source": [
    "mu1, sigma1 = 50, 15  # Mean and standard deviation for x1\n",
    "mu2, sigma2 = 50, 17  # Mean and standard deviation for x2\n",
    "sigma3 = 0.5  # Parameters for x3\n",
    "\n",
    "k1 = 0.0003\n",
    "k2 = 0.0013\n",
    "b1 = 10\n",
    "b2 = 10\n",
    "\n",
    "\n",
    "# Number of samples\n",
    "n_samples = 400000\n",
    "\n",
    "train_num = 10000\n",
    "\n",
    "test_num = 2000\n",
    "\n",
    "save_path = '/home/zimuwang/CFE_wash_data/simulation/result/240815data/'\n"
   ]
  },
  {
   "cell_type": "code",
   "execution_count": 4,
   "id": "8a5ec470",
   "metadata": {},
   "outputs": [],
   "source": [
    "def gen_x3(x1_local, x2_local):\n",
    "#     return 10*((x1_local+x2_local)**2/180**2) + 10 + np.random.normal(0,sigma3,n_samples)\n",
    "    return (x1_local+x2_local)**2 * 0.0003 + 10 + np.random.normal(0,sigma3,n_samples)\n",
    "\n",
    "def gen_part1_p_y(x1_local, x2_local, x3_local):\n",
    "#     return sigmoid( 10.5*((x1_local*x2_local)/8100) + 10 - x3_local )\n",
    "    return sigmoid( (x1_local*x2_local) *  0.0013 + 10 - x3_local )\n",
    "\n",
    "def gen_part2_p_y(x4_local, x5_local, x6_local):\n",
    "#     return sigmoid( 10.5*((x1_local*x2_local)/8100) + 10 - x3_local )\n",
    "    return sigmoid(-x4_local + x5_local + x6_local)"
   ]
  },
  {
   "cell_type": "code",
   "execution_count": 5,
   "id": "def5c855",
   "metadata": {},
   "outputs": [
    {
     "data": {
      "text/plain": [
       "array([     0,      1,      2, ..., 399997, 399998, 399999])"
      ]
     },
     "execution_count": 5,
     "metadata": {},
     "output_type": "execute_result"
    }
   ],
   "source": [
    "id_x0 = np.arange(0, n_samples)\n",
    "id_x0_new = np.copy(id_x0)\n",
    "id_x0"
   ]
  },
  {
   "cell_type": "code",
   "execution_count": 6,
   "id": "e9efd6d6",
   "metadata": {},
   "outputs": [
    {
     "data": {
      "text/plain": [
       "0.5226069683492953"
      ]
     },
     "execution_count": 6,
     "metadata": {},
     "output_type": "execute_result"
    }
   ],
   "source": [
    "x1= np.random.normal(mu1, sigma1, n_samples)\n",
    "x2= np.random.normal(mu2, sigma2, n_samples)\n",
    "x3= gen_x3(x1, x2)\n",
    "part1_p_y= gen_part1_p_y(x1, x2, x3)\n",
    "np.mean(part1_p_y)"
   ]
  },
  {
   "cell_type": "code",
   "execution_count": 7,
   "id": "cf15972e",
   "metadata": {},
   "outputs": [
    {
     "data": {
      "text/plain": [
       "0.5152856025913105"
      ]
     },
     "execution_count": 7,
     "metadata": {},
     "output_type": "execute_result"
    }
   ],
   "source": [
    "delta1_mu, delta1_sigma = 0, 15 / 2\n",
    "delta2_mu, delta2_sigma = 0, 15 / 2\n",
    "\n",
    "delta_1 = np.random.normal(delta1_mu, delta1_sigma, n_samples)\n",
    "delta_2 = np.random.normal(delta2_mu, delta2_sigma, n_samples)\n",
    "\n",
    "x1_new = x1 + delta_1\n",
    "x2_new = x2 + delta_2\n",
    "\n",
    "x3_new = gen_x3(x1_new, x2_new)\n",
    "\n",
    "part1_p_y_new= gen_part1_p_y(x1_new, x2_new, x3_new)\n",
    "np.mean(part1_p_y_new)"
   ]
  },
  {
   "cell_type": "code",
   "execution_count": 8,
   "id": "caaa13c6",
   "metadata": {},
   "outputs": [
    {
     "data": {
      "image/png": "[encoded data removed]",
      "text/plain": [
       "<Figure size 576x360 with 1 Axes>"
      ]
     },
     "metadata": {
      "needs_background": "light"
     },
     "output_type": "display_data"
    },
    {
     "data": {
      "text/plain": [
       "array([-2.06959537, -1.27601683,  0.74363553, ..., -0.3719008 ,\n",
       "       -0.31723575, -0.61806275])"
      ]
     },
     "execution_count": 8,
     "metadata": {},
     "output_type": "execute_result"
    }
   ],
   "source": [
    "mu4, sigma4 = -0.5, 1.\n",
    "\n",
    "x4= np.random.normal(mu4, sigma4, n_samples)\n",
    "\n",
    "plot_distribution(x4)\n",
    "\n",
    "x4"
   ]
  },
  {
   "cell_type": "code",
   "execution_count": 9,
   "id": "08646c90",
   "metadata": {},
   "outputs": [
    {
     "data": {
      "image/png": "[encoded data removed]",
      "text/plain": [
       "<Figure size 576x360 with 1 Axes>"
      ]
     },
     "metadata": {
      "needs_background": "light"
     },
     "output_type": "display_data"
    },
    {
     "data": {
      "text/plain": [
       "0.999977196388749"
      ]
     },
     "execution_count": 9,
     "metadata": {},
     "output_type": "execute_result"
    }
   ],
   "source": [
    "shape4 = 5.0  # 形状参数 α\n",
    "scale4 = 1.0  # 尺度参数 β\n",
    "delta4_k = 0.2\n",
    "\n",
    "delta4 = np.random.gamma(shape4, scale4, n_samples) * delta4_k\n",
    "\n",
    "plot_distribution(delta4)\n",
    "\n",
    "np.mean(delta4)"
   ]
  },
  {
   "cell_type": "code",
   "execution_count": 10,
   "id": "81e33daa",
   "metadata": {},
   "outputs": [
    {
     "data": {
      "image/png": "[encoded data removed]",
      "text/plain": [
       "<Figure size 576x360 with 1 Axes>"
      ]
     },
     "metadata": {
      "needs_background": "light"
     },
     "output_type": "display_data"
    },
    {
     "data": {
      "text/plain": [
       "array([-1.26071903,  0.17281666,  1.27954431, ...,  0.37768784,\n",
       "        0.82405362,  0.70705161])"
      ]
     },
     "execution_count": 10,
     "metadata": {},
     "output_type": "execute_result"
    }
   ],
   "source": [
    "x4_new = x4 + delta4\n",
    "\n",
    "plot_distribution(x4_new)\n",
    "\n",
    "x4_new"
   ]
  },
  {
   "cell_type": "code",
   "execution_count": 11,
   "id": "2b99e34e",
   "metadata": {},
   "outputs": [
    {
     "data": {
      "image/png": "[encoded data removed]",
      "text/plain": [
       "<Figure size 576x360 with 1 Axes>"
      ]
     },
     "metadata": {
      "needs_background": "light"
     },
     "output_type": "display_data"
    },
    {
     "data": {
      "text/plain": [
       "array([-1.09076575, -0.18988504,  0.79220299, ..., -0.90266847,\n",
       "        0.14963716,  1.79236603])"
      ]
     },
     "execution_count": 11,
     "metadata": {},
     "output_type": "execute_result"
    }
   ],
   "source": [
    "mu5, sigma5 = 0, 1.\n",
    "\n",
    "x5= np.random.normal(mu5, sigma5, n_samples)\n",
    "\n",
    "plot_distribution(x5)\n",
    "\n",
    "x5"
   ]
  },
  {
   "cell_type": "code",
   "execution_count": 12,
   "id": "8c7b6954",
   "metadata": {},
   "outputs": [],
   "source": [
    "x5_new = np.copy(x5)"
   ]
  },
  {
   "cell_type": "code",
   "execution_count": 13,
   "id": "ac254df9",
   "metadata": {},
   "outputs": [
    {
     "data": {
      "image/png": "[encoded data removed]",
      "text/plain": [
       "<Figure size 576x360 with 1 Axes>"
      ]
     },
     "metadata": {
      "needs_background": "light"
     },
     "output_type": "display_data"
    },
    {
     "data": {
      "text/plain": [
       "array([-1.2101516 , -0.450437  , -0.35377591, ..., -0.52042493,\n",
       "       -1.33053449,  0.4262526 ])"
      ]
     },
     "execution_count": 13,
     "metadata": {},
     "output_type": "execute_result"
    }
   ],
   "source": [
    "mu6, sigma6 = 0, 1.\n",
    "\n",
    "x6= np.random.normal(mu6, sigma6, n_samples)\n",
    "\n",
    "plot_distribution(x6)\n",
    "\n",
    "x6"
   ]
  },
  {
   "cell_type": "code",
   "execution_count": 14,
   "id": "c7316b00",
   "metadata": {},
   "outputs": [
    {
     "data": {
      "image/png": "[encoded data removed]",
      "text/plain": [
       "<Figure size 576x360 with 1 Axes>"
      ]
     },
     "metadata": {
      "needs_background": "light"
     },
     "output_type": "display_data"
    },
    {
     "data": {
      "text/plain": [
       "array([0, 1, 0, ..., 0, 1, 0])"
      ]
     },
     "execution_count": 14,
     "metadata": {},
     "output_type": "execute_result"
    }
   ],
   "source": [
    "p7 = 0.5\n",
    "\n",
    "x7 = np.random.binomial(n=1, p=p7, size=n_samples)\n",
    "\n",
    "plot_distribution(x7)\n",
    "\n",
    "x7"
   ]
  },
  {
   "cell_type": "code",
   "execution_count": 15,
   "id": "9c329f0e",
   "metadata": {},
   "outputs": [
    {
     "data": {
      "image/png": "[encoded data removed]",
      "text/plain": [
       "<Figure size 576x360 with 1 Axes>"
      ]
     },
     "metadata": {
      "needs_background": "light"
     },
     "output_type": "display_data"
    },
    {
     "data": {
      "text/plain": [
       "array([-0.        ,  0.72242432,  0.        , ...,  0.        ,\n",
       "       -0.44194999,  0.        ])"
      ]
     },
     "execution_count": 15,
     "metadata": {},
     "output_type": "execute_result"
    }
   ],
   "source": [
    "delta6_mu, delta6_sigma = 0, sigma6 / 2\n",
    "\n",
    "raw_delta6 = np.random.normal(delta6_mu, delta6_sigma, n_samples)\n",
    "\n",
    "delta6 = raw_delta6 * x7\n",
    "\n",
    "\n",
    "plot_distribution(delta6)\n",
    "\n",
    "delta6\n"
   ]
  },
  {
   "cell_type": "code",
   "execution_count": 16,
   "id": "355bc5dd",
   "metadata": {},
   "outputs": [
    {
     "data": {
      "image/png": "[encoded data removed]",
      "text/plain": [
       "<Figure size 576x360 with 1 Axes>"
      ]
     },
     "metadata": {
      "needs_background": "light"
     },
     "output_type": "display_data"
    }
   ],
   "source": [
    "x6_new = x6 + delta6\n",
    "\n",
    "plot_distribution(x6_new)\n"
   ]
  },
  {
   "cell_type": "code",
   "execution_count": 17,
   "id": "166687e4",
   "metadata": {},
   "outputs": [],
   "source": [
    "x7_new = np.copy(x7)"
   ]
  },
  {
   "cell_type": "code",
   "execution_count": 18,
   "id": "2fa1e043",
   "metadata": {},
   "outputs": [
    {
     "data": {
      "image/png": "[encoded data removed]",
      "text/plain": [
       "<Figure size 576x360 with 1 Axes>"
      ]
     },
     "metadata": {
      "needs_background": "light"
     },
     "output_type": "display_data"
    },
    {
     "data": {
      "text/plain": [
       "0.5818192127520115"
      ]
     },
     "execution_count": 18,
     "metadata": {},
     "output_type": "execute_result"
    }
   ],
   "source": [
    "part2_p_y = gen_part2_p_y(x4, x5, x6)\n",
    "plot_distribution(part2_p_y)\n",
    "np.mean(part2_p_y)"
   ]
  },
  {
   "cell_type": "code",
   "execution_count": 19,
   "id": "cdc2b5a8",
   "metadata": {},
   "outputs": [
    {
     "data": {
      "image/png": "[encoded data removed]",
      "text/plain": [
       "<Figure size 576x360 with 1 Axes>"
      ]
     },
     "metadata": {
      "needs_background": "light"
     },
     "output_type": "display_data"
    },
    {
     "data": {
      "text/plain": [
       "0.42125804590049964"
      ]
     },
     "execution_count": 19,
     "metadata": {},
     "output_type": "execute_result"
    }
   ],
   "source": [
    "part2_p_y_new = gen_part2_p_y(x4_new, x5_new, x6_new)\n",
    "plot_distribution(part2_p_y_new)\n",
    "np.mean(part2_p_y_new)"
   ]
  },
  {
   "cell_type": "code",
   "execution_count": 20,
   "id": "d187b235",
   "metadata": {},
   "outputs": [
    {
     "data": {
      "image/png": "[encoded data removed]",
      "text/plain": [
       "<Figure size 576x360 with 1 Axes>"
      ]
     },
     "metadata": {
      "needs_background": "light"
     },
     "output_type": "display_data"
    },
    {
     "data": {
      "text/plain": [
       "0.5522130905506535"
      ]
     },
     "execution_count": 20,
     "metadata": {},
     "output_type": "execute_result"
    }
   ],
   "source": [
    "p_y = 0.5 * part1_p_y + 0.5 * part2_p_y\n",
    "plot_distribution(p_y)\n",
    "np.mean(p_y)"
   ]
  },
  {
   "cell_type": "code",
   "execution_count": 21,
   "id": "13e03a2e",
   "metadata": {},
   "outputs": [
    {
     "data": {
      "image/png": "[encoded data removed]",
      "text/plain": [
       "<Figure size 576x360 with 1 Axes>"
      ]
     },
     "metadata": {
      "needs_background": "light"
     },
     "output_type": "display_data"
    },
    {
     "data": {
      "text/plain": [
       "0.468271824245905"
      ]
     },
     "execution_count": 21,
     "metadata": {},
     "output_type": "execute_result"
    }
   ],
   "source": [
    "p_y_new = 0.5 * part1_p_y_new + 0.5 * part2_p_y_new\n",
    "plot_distribution(p_y_new)\n",
    "np.mean(p_y_new)"
   ]
  },
  {
   "cell_type": "code",
   "execution_count": 22,
   "id": "67e1a562",
   "metadata": {},
   "outputs": [
    {
     "data": {
      "image/png": "[encoded data removed]",
      "text/plain": [
       "<Figure size 576x360 with 1 Axes>"
      ]
     },
     "metadata": {
      "needs_background": "light"
     },
     "output_type": "display_data"
    },
    {
     "data": {
      "text/plain": [
       "0.62901"
      ]
     },
     "execution_count": 22,
     "metadata": {},
     "output_type": "execute_result"
    }
   ],
   "source": [
    "y = np.where(p_y > 0.5, 1, 0)\n",
    "plot_distribution(y)\n",
    "np.mean(y)"
   ]
  },
  {
   "cell_type": "code",
   "execution_count": 23,
   "id": "c558bbc6",
   "metadata": {},
   "outputs": [
    {
     "data": {
      "image/png": "[encoded data removed]",
      "text/plain": [
       "<Figure size 576x360 with 1 Axes>"
      ]
     },
     "metadata": {
      "needs_background": "light"
     },
     "output_type": "display_data"
    },
    {
     "data": {
      "text/plain": [
       "0.410865"
      ]
     },
     "execution_count": 23,
     "metadata": {},
     "output_type": "execute_result"
    }
   ],
   "source": [
    "y_new = np.where(p_y_new > 0.5, 1, 0)\n",
    "plot_distribution(y_new)\n",
    "np.mean(y_new)"
   ]
  },
  {
   "cell_type": "code",
   "execution_count": 24,
   "id": "61f179a4",
   "metadata": {},
   "outputs": [
    {
     "data": {
      "text/plain": [
       "array([[ 0.00000000e+00,  6.33607889e+01,  4.57592244e+01, ...,\n",
       "        -1.21015160e+00,  0.00000000e+00,  1.00000000e+00],\n",
       "       [ 1.00000000e+00,  7.91169315e+01,  5.26695975e+01, ...,\n",
       "        -4.50436998e-01,  1.00000000e+00,  1.00000000e+00],\n",
       "       [ 2.00000000e+00,  5.13739847e+01,  3.68640981e+01, ...,\n",
       "        -3.53775912e-01,  0.00000000e+00,  1.00000000e+00],\n",
       "       ...,\n",
       "       [ 3.99997000e+05,  7.23510779e+01,  9.91548615e+01, ...,\n",
       "        -5.20424930e-01,  0.00000000e+00,  0.00000000e+00],\n",
       "       [ 3.99998000e+05,  5.78013026e+01,  5.27532992e+01, ...,\n",
       "        -1.33053449e+00,  1.00000000e+00,  0.00000000e+00],\n",
       "       [ 3.99999000e+05,  5.33768099e+01,  5.51533696e+01, ...,\n",
       "         4.26252595e-01,  0.00000000e+00,  1.00000000e+00]])"
      ]
     },
     "execution_count": 24,
     "metadata": {},
     "output_type": "execute_result"
    }
   ],
   "source": [
    "all_data = np.zeros((n_samples, 9))\n",
    "\n",
    "\n",
    "all_data[:, 0] = id_x0\n",
    "all_data[:, 1] = x1\n",
    "all_data[:, 2] = x2\n",
    "all_data[:, 3] = x3\n",
    "all_data[:, 4] = x4\n",
    "all_data[:, 5] = x5\n",
    "all_data[:, 6] = x6\n",
    "all_data[:, 7] = x7\n",
    "all_data[:, 8] = y\n",
    "\n",
    "\n",
    "all_data"
   ]
  },
  {
   "cell_type": "code",
   "execution_count": 25,
   "id": "c82368c7",
   "metadata": {},
   "outputs": [
    {
     "data": {
      "text/plain": [
       "array([[ 0.00000000e+00,  6.36225403e+01,  4.51817176e+01, ...,\n",
       "        -1.21015160e+00,  0.00000000e+00,  0.00000000e+00],\n",
       "       [ 1.00000000e+00,  8.82704105e+01,  4.96940172e+01, ...,\n",
       "         2.71987326e-01,  1.00000000e+00,  0.00000000e+00],\n",
       "       [ 2.00000000e+00,  6.05029290e+01,  4.55811521e+01, ...,\n",
       "        -3.53775912e-01,  0.00000000e+00,  0.00000000e+00],\n",
       "       ...,\n",
       "       [ 3.99997000e+05,  6.67282376e+01,  9.09466488e+01, ...,\n",
       "        -5.20424930e-01,  0.00000000e+00,  0.00000000e+00],\n",
       "       [ 3.99998000e+05,  4.47806513e+01,  4.53362646e+01, ...,\n",
       "        -1.77248448e+00,  1.00000000e+00,  0.00000000e+00],\n",
       "       [ 3.99999000e+05,  4.40311696e+01,  5.65562152e+01, ...,\n",
       "         4.26252595e-01,  0.00000000e+00,  1.00000000e+00]])"
      ]
     },
     "execution_count": 25,
     "metadata": {},
     "output_type": "execute_result"
    }
   ],
   "source": [
    "all_data_new = np.zeros((n_samples, 9))\n",
    "\n",
    "\n",
    "all_data_new[:, 0] = id_x0_new\n",
    "all_data_new[:, 1] = x1_new\n",
    "all_data_new[:, 2] = x2_new\n",
    "all_data_new[:, 3] = x3_new\n",
    "all_data_new[:, 4] = x4_new\n",
    "all_data_new[:, 5] = x5_new\n",
    "all_data_new[:, 6] = x6_new\n",
    "all_data_new[:, 7] = x7_new\n",
    "all_data_new[:, 8] = y_new\n",
    "\n",
    "all_data_new"
   ]
  },
  {
   "cell_type": "code",
   "execution_count": 26,
   "id": "41daf05f",
   "metadata": {},
   "outputs": [
    {
     "data": {
      "text/plain": [
       "array([[ 0.00000000e+00,  6.33607889e+01,  4.57592244e+01, ...,\n",
       "        -1.21015160e+00,  0.00000000e+00,  1.00000000e+00],\n",
       "       [ 1.00000000e+00,  7.91169315e+01,  5.26695975e+01, ...,\n",
       "        -4.50436998e-01,  1.00000000e+00,  1.00000000e+00],\n",
       "       [ 2.00000000e+00,  5.13739847e+01,  3.68640981e+01, ...,\n",
       "        -3.53775912e-01,  0.00000000e+00,  1.00000000e+00],\n",
       "       ...,\n",
       "       [ 9.99700000e+03,  5.31602454e+01,  6.79995169e+01, ...,\n",
       "        -2.13163029e+00,  0.00000000e+00,  0.00000000e+00],\n",
       "       [ 9.99800000e+03,  2.81493593e+01,  5.60767678e+01, ...,\n",
       "        -2.69101245e-01,  1.00000000e+00,  1.00000000e+00],\n",
       "       [ 9.99900000e+03,  6.40891752e+01,  8.20086178e+01, ...,\n",
       "        -7.03611896e-01,  1.00000000e+00,  1.00000000e+00]])"
      ]
     },
     "execution_count": 26,
     "metadata": {},
     "output_type": "execute_result"
    }
   ],
   "source": [
    "train_data = all_data[:train_num]\n",
    "train_data"
   ]
  },
  {
   "cell_type": "code",
   "execution_count": 27,
   "id": "09f31d0f",
   "metadata": {},
   "outputs": [
    {
     "data": {
      "text/plain": [
       "array([[ 0.00000000e+00,  6.36225403e+01,  4.51817176e+01, ...,\n",
       "        -1.21015160e+00,  0.00000000e+00,  0.00000000e+00],\n",
       "       [ 1.00000000e+00,  8.82704105e+01,  4.96940172e+01, ...,\n",
       "         2.71987326e-01,  1.00000000e+00,  0.00000000e+00],\n",
       "       [ 2.00000000e+00,  6.05029290e+01,  4.55811521e+01, ...,\n",
       "        -3.53775912e-01,  0.00000000e+00,  0.00000000e+00],\n",
       "       ...,\n",
       "       [ 9.99700000e+03,  5.69717414e+01,  6.14301912e+01, ...,\n",
       "        -2.13163029e+00,  0.00000000e+00,  0.00000000e+00],\n",
       "       [ 9.99800000e+03,  2.57921371e+01,  5.92182300e+01, ...,\n",
       "        -3.66236490e-01,  1.00000000e+00,  0.00000000e+00],\n",
       "       [ 9.99900000e+03,  4.86731793e+01,  8.47303430e+01, ...,\n",
       "        -8.71876002e-01,  1.00000000e+00,  0.00000000e+00]])"
      ]
     },
     "execution_count": 27,
     "metadata": {},
     "output_type": "execute_result"
    }
   ],
   "source": [
    "train_data_new = all_data_new[:train_num]\n",
    "train_data_new"
   ]
  },
  {
   "cell_type": "code",
   "execution_count": 28,
   "id": "34c58e7f",
   "metadata": {},
   "outputs": [
    {
     "data": {
      "text/plain": [
       "array([[ 1.00000000e+04,  4.32509481e+01,  2.17461796e+01, ...,\n",
       "         6.28796613e-01,  0.00000000e+00,  1.00000000e+00],\n",
       "       [ 1.00010000e+04,  3.49141097e+01,  6.14613551e+01, ...,\n",
       "        -6.07065296e-01,  0.00000000e+00,  0.00000000e+00],\n",
       "       [ 1.00020000e+04,  3.82314620e+01,  3.30667426e+01, ...,\n",
       "         2.09788817e+00,  0.00000000e+00,  1.00000000e+00],\n",
       "       ...,\n",
       "       [ 3.99997000e+05,  7.23510779e+01,  9.91548615e+01, ...,\n",
       "        -5.20424930e-01,  0.00000000e+00,  0.00000000e+00],\n",
       "       [ 3.99998000e+05,  5.78013026e+01,  5.27532992e+01, ...,\n",
       "        -1.33053449e+00,  1.00000000e+00,  0.00000000e+00],\n",
       "       [ 3.99999000e+05,  5.33768099e+01,  5.51533696e+01, ...,\n",
       "         4.26252595e-01,  0.00000000e+00,  1.00000000e+00]])"
      ]
     },
     "execution_count": 28,
     "metadata": {},
     "output_type": "execute_result"
    }
   ],
   "source": [
    "test_data = all_data[train_num:]\n",
    "test_data"
   ]
  },
  {
   "cell_type": "code",
   "execution_count": 29,
   "id": "5bcfefcd",
   "metadata": {},
   "outputs": [
    {
     "data": {
      "text/plain": [
       "144708"
      ]
     },
     "execution_count": 29,
     "metadata": {},
     "output_type": "execute_result"
    }
   ],
   "source": [
    "false_row_indices = np.where(test_data[:, -1] == 0)[0]\n",
    "len(false_row_indices)"
   ]
  },
  {
   "cell_type": "code",
   "execution_count": 30,
   "id": "89dd90c4",
   "metadata": {},
   "outputs": [
    {
     "data": {
      "text/plain": [
       "array([[ 1.00000000e+04,  3.82002877e+01,  2.47505594e+01, ...,\n",
       "         6.28796613e-01,  0.00000000e+00,  0.00000000e+00],\n",
       "       [ 1.00010000e+04,  3.97607542e+01,  6.68282095e+01, ...,\n",
       "        -6.07065296e-01,  0.00000000e+00,  0.00000000e+00],\n",
       "       [ 1.00020000e+04,  5.29627047e+01,  3.56425660e+01, ...,\n",
       "         2.09788817e+00,  0.00000000e+00,  1.00000000e+00],\n",
       "       ...,\n",
       "       [ 3.99997000e+05,  6.67282376e+01,  9.09466488e+01, ...,\n",
       "        -5.20424930e-01,  0.00000000e+00,  0.00000000e+00],\n",
       "       [ 3.99998000e+05,  4.47806513e+01,  4.53362646e+01, ...,\n",
       "        -1.77248448e+00,  1.00000000e+00,  0.00000000e+00],\n",
       "       [ 3.99999000e+05,  4.40311696e+01,  5.65562152e+01, ...,\n",
       "         4.26252595e-01,  0.00000000e+00,  1.00000000e+00]])"
      ]
     },
     "execution_count": 30,
     "metadata": {},
     "output_type": "execute_result"
    }
   ],
   "source": [
    "test_data_new = all_data_new[train_num:]\n",
    "test_data_new"
   ]
  },
  {
   "cell_type": "code",
   "execution_count": 31,
   "id": "0333fbb7",
   "metadata": {},
   "outputs": [
    {
     "data": {
      "text/plain": [
       "160178"
      ]
     },
     "execution_count": 31,
     "metadata": {},
     "output_type": "execute_result"
    }
   ],
   "source": [
    "true_row_indices_new = np.where(test_data_new[:, -1] == 1)[0]\n",
    "len(true_row_indices_new)"
   ]
  },
  {
   "cell_type": "code",
   "execution_count": 32,
   "id": "c33b65d8",
   "metadata": {},
   "outputs": [
    {
     "data": {
      "text/plain": [
       "array([    22,     97,    103, ..., 389681, 389914, 389944])"
      ]
     },
     "execution_count": 32,
     "metadata": {},
     "output_type": "execute_result"
    }
   ],
   "source": [
    "index = np.intersect1d(false_row_indices, true_row_indices_new)\n",
    "index"
   ]
  },
  {
   "cell_type": "code",
   "execution_count": 33,
   "id": "7f336eaf",
   "metadata": {},
   "outputs": [
    {
     "data": {
      "text/plain": [
       "4812"
      ]
     },
     "execution_count": 33,
     "metadata": {},
     "output_type": "execute_result"
    }
   ],
   "source": [
    "len(index)"
   ]
  },
  {
   "cell_type": "code",
   "execution_count": 34,
   "id": "2017aaed",
   "metadata": {},
   "outputs": [
    {
     "data": {
      "text/plain": [
       "array([[ 1.00220000e+04,  6.35659470e+01,  6.66678578e+01, ...,\n",
       "         5.91240560e-01,  0.00000000e+00,  0.00000000e+00],\n",
       "       [ 1.00970000e+04,  7.01417988e+01,  3.21511591e+01, ...,\n",
       "        -2.21776021e-02,  0.00000000e+00,  0.00000000e+00],\n",
       "       [ 1.01030000e+04,  6.37894899e+01,  4.83861676e+01, ...,\n",
       "        -1.85847795e+00,  1.00000000e+00,  0.00000000e+00],\n",
       "       ...,\n",
       "       [ 3.99681000e+05,  3.00152809e+01,  6.25038008e+01, ...,\n",
       "        -9.96510380e-01,  1.00000000e+00,  0.00000000e+00],\n",
       "       [ 3.99914000e+05,  5.79988624e+01,  6.54737547e+01, ...,\n",
       "         8.89245692e-01,  1.00000000e+00,  0.00000000e+00],\n",
       "       [ 3.99944000e+05,  5.82049884e+01,  6.06945284e+01, ...,\n",
       "        -7.64321724e-02,  1.00000000e+00,  0.00000000e+00]])"
      ]
     },
     "execution_count": 34,
     "metadata": {},
     "output_type": "execute_result"
    }
   ],
   "source": [
    "core_test_data = test_data[index]\n",
    "core_test_data"
   ]
  },
  {
   "cell_type": "code",
   "execution_count": 35,
   "id": "a0c32cfa",
   "metadata": {},
   "outputs": [
    {
     "data": {
      "text/plain": [
       "array([[ 1.00220000e+04,  7.55121895e+01,  7.30371383e+01, ...,\n",
       "         5.91240560e-01,  0.00000000e+00,  1.00000000e+00],\n",
       "       [ 1.00970000e+04,  6.85355828e+01,  2.82256487e+01, ...,\n",
       "        -2.21776021e-02,  0.00000000e+00,  1.00000000e+00],\n",
       "       [ 1.01030000e+04,  7.13079383e+01,  4.40131587e+01, ...,\n",
       "        -8.17656229e-01,  1.00000000e+00,  1.00000000e+00],\n",
       "       ...,\n",
       "       [ 3.99681000e+05,  2.95640765e+01,  6.14752725e+01, ...,\n",
       "        -7.65872037e-01,  1.00000000e+00,  1.00000000e+00],\n",
       "       [ 3.99914000e+05,  4.92881242e+01,  6.18972021e+01, ...,\n",
       "         1.24604907e+00,  1.00000000e+00,  1.00000000e+00],\n",
       "       [ 3.99944000e+05,  4.86815912e+01,  5.61914982e+01, ...,\n",
       "         6.52194358e-01,  1.00000000e+00,  1.00000000e+00]])"
      ]
     },
     "execution_count": 35,
     "metadata": {},
     "output_type": "execute_result"
    }
   ],
   "source": [
    "core_test_data_new = test_data_new[index]\n",
    "core_test_data_new"
   ]
  },
  {
   "cell_type": "code",
   "execution_count": 36,
   "id": "fc5ce08d",
   "metadata": {},
   "outputs": [
    {
     "data": {
      "text/plain": [
       "0.0"
      ]
     },
     "execution_count": 36,
     "metadata": {},
     "output_type": "execute_result"
    }
   ],
   "source": [
    "np.sum(core_test_data[:, -1])"
   ]
  },
  {
   "cell_type": "code",
   "execution_count": 37,
   "id": "534b71dd",
   "metadata": {},
   "outputs": [
    {
     "data": {
      "text/plain": [
       "0.0"
      ]
     },
     "execution_count": 37,
     "metadata": {},
     "output_type": "execute_result"
    }
   ],
   "source": [
    "np.sum(core_test_data_new[:, -1] - 1.0)"
   ]
  },
  {
   "cell_type": "code",
   "execution_count": 38,
   "id": "dbd79b74",
   "metadata": {},
   "outputs": [
    {
     "data": {
      "text/plain": [
       "0"
      ]
     },
     "execution_count": 38,
     "metadata": {},
     "output_type": "execute_result"
    }
   ],
   "source": [
    "np.sum(core_test_data[:, 0] != core_test_data_new[:, 0])"
   ]
  },
  {
   "cell_type": "code",
   "execution_count": 39,
   "id": "e0e860a7",
   "metadata": {},
   "outputs": [],
   "source": [
    "final_test_index = np.random.choice(core_test_data.shape[0], size=test_num, replace=False)\n",
    "final_test_data = core_test_data[final_test_index]\n",
    "final_test_data_new = core_test_data_new[final_test_index]"
   ]
  },
  {
   "cell_type": "code",
   "execution_count": 40,
   "id": "e3a1f03d",
   "metadata": {},
   "outputs": [
    {
     "data": {
      "text/plain": [
       "array([[2.89135000e+05, 3.78099993e+01, 4.82184085e+01, ...,\n",
       "        1.52026388e+00, 1.00000000e+00, 1.00000000e+00],\n",
       "       [3.75575000e+05, 7.24938690e+01, 2.29621059e+01, ...,\n",
       "        2.92623091e-01, 1.00000000e+00, 1.00000000e+00],\n",
       "       [1.95599000e+05, 4.85893573e+01, 7.41757999e+01, ...,\n",
       "        5.84007510e-02, 1.00000000e+00, 1.00000000e+00],\n",
       "       ...,\n",
       "       [1.33559000e+05, 5.68613311e+01, 5.04793425e+01, ...,\n",
       "        5.49463525e-02, 1.00000000e+00, 1.00000000e+00],\n",
       "       [2.56162000e+05, 4.05679385e+01, 6.28034117e+01, ...,\n",
       "        2.20678484e-01, 0.00000000e+00, 1.00000000e+00],\n",
       "       [3.64136000e+05, 5.28678378e+01, 6.13883097e+01, ...,\n",
       "        9.02067067e-01, 1.00000000e+00, 1.00000000e+00]])"
      ]
     },
     "execution_count": 40,
     "metadata": {},
     "output_type": "execute_result"
    }
   ],
   "source": [
    "final_test_data_new"
   ]
  },
  {
   "cell_type": "code",
   "execution_count": 41,
   "id": "dc35f2a1",
   "metadata": {},
   "outputs": [
    {
     "data": {
      "text/plain": [
       "array([[ 2.89135000e+05,  2.32739513e+01,  3.95856337e+01, ...,\n",
       "         8.20852391e-01,  1.00000000e+00,  0.00000000e+00],\n",
       "       [ 3.75575000e+05,  6.83270216e+01,  1.39773040e+01, ...,\n",
       "         1.02790336e-01,  1.00000000e+00,  0.00000000e+00],\n",
       "       [ 1.95599000e+05,  4.94146122e+01,  6.88754140e+01, ...,\n",
       "        -4.61850687e-01,  1.00000000e+00,  0.00000000e+00],\n",
       "       ...,\n",
       "       [ 1.33559000e+05,  6.18433178e+01,  3.81676372e+01, ...,\n",
       "        -5.80262349e-01,  1.00000000e+00,  0.00000000e+00],\n",
       "       [ 2.56162000e+05,  3.25024598e+01,  6.62801399e+01, ...,\n",
       "         2.20678484e-01,  0.00000000e+00,  0.00000000e+00],\n",
       "       [ 3.64136000e+05,  4.70996109e+01,  6.25714129e+01, ...,\n",
       "         2.93787000e-01,  1.00000000e+00,  0.00000000e+00]])"
      ]
     },
     "execution_count": 41,
     "metadata": {},
     "output_type": "execute_result"
    }
   ],
   "source": [
    "final_test_data"
   ]
  },
  {
   "cell_type": "code",
   "execution_count": 42,
   "id": "2d0f1a2d",
   "metadata": {},
   "outputs": [
    {
     "data": {
      "text/plain": [
       "0"
      ]
     },
     "execution_count": 42,
     "metadata": {},
     "output_type": "execute_result"
    }
   ],
   "source": [
    "np.sum(final_test_data[:, 0] != final_test_data_new[:, 0])"
   ]
  },
  {
   "cell_type": "code",
   "execution_count": 43,
   "id": "b5e3521b",
   "metadata": {},
   "outputs": [
    {
     "data": {
      "text/plain": [
       "array([10000, 10001, 10002, ..., 11997, 11998, 11999])"
      ]
     },
     "execution_count": 43,
     "metadata": {},
     "output_type": "execute_result"
    }
   ],
   "source": [
    "reindex = np.arange(train_num, train_num + test_num)\n",
    "reindex"
   ]
  },
  {
   "cell_type": "code",
   "execution_count": 44,
   "id": "3044613c",
   "metadata": {},
   "outputs": [
    {
     "data": {
      "text/plain": [
       "array([[1.00000000e+04, 3.78099993e+01, 4.82184085e+01, ...,\n",
       "        1.52026388e+00, 1.00000000e+00, 1.00000000e+00],\n",
       "       [1.00010000e+04, 7.24938690e+01, 2.29621059e+01, ...,\n",
       "        2.92623091e-01, 1.00000000e+00, 1.00000000e+00],\n",
       "       [1.00020000e+04, 4.85893573e+01, 7.41757999e+01, ...,\n",
       "        5.84007510e-02, 1.00000000e+00, 1.00000000e+00],\n",
       "       ...,\n",
       "       [1.19970000e+04, 5.68613311e+01, 5.04793425e+01, ...,\n",
       "        5.49463525e-02, 1.00000000e+00, 1.00000000e+00],\n",
       "       [1.19980000e+04, 4.05679385e+01, 6.28034117e+01, ...,\n",
       "        2.20678484e-01, 0.00000000e+00, 1.00000000e+00],\n",
       "       [1.19990000e+04, 5.28678378e+01, 6.13883097e+01, ...,\n",
       "        9.02067067e-01, 1.00000000e+00, 1.00000000e+00]])"
      ]
     },
     "execution_count": 44,
     "metadata": {},
     "output_type": "execute_result"
    }
   ],
   "source": [
    "final_test_data_new_reindex = np.copy(final_test_data_new)\n",
    "final_test_data_new_reindex[:, 0] = reindex\n",
    "final_test_data_new_reindex"
   ]
  },
  {
   "cell_type": "code",
   "execution_count": 45,
   "id": "18f53aba",
   "metadata": {},
   "outputs": [
    {
     "data": {
      "text/plain": [
       "array([[ 1.00000000e+04,  2.32739513e+01,  3.95856337e+01, ...,\n",
       "         8.20852391e-01,  1.00000000e+00,  0.00000000e+00],\n",
       "       [ 1.00010000e+04,  6.83270216e+01,  1.39773040e+01, ...,\n",
       "         1.02790336e-01,  1.00000000e+00,  0.00000000e+00],\n",
       "       [ 1.00020000e+04,  4.94146122e+01,  6.88754140e+01, ...,\n",
       "        -4.61850687e-01,  1.00000000e+00,  0.00000000e+00],\n",
       "       ...,\n",
       "       [ 1.19970000e+04,  6.18433178e+01,  3.81676372e+01, ...,\n",
       "        -5.80262349e-01,  1.00000000e+00,  0.00000000e+00],\n",
       "       [ 1.19980000e+04,  3.25024598e+01,  6.62801399e+01, ...,\n",
       "         2.20678484e-01,  0.00000000e+00,  0.00000000e+00],\n",
       "       [ 1.19990000e+04,  4.70996109e+01,  6.25714129e+01, ...,\n",
       "         2.93787000e-01,  1.00000000e+00,  0.00000000e+00]])"
      ]
     },
     "execution_count": 45,
     "metadata": {},
     "output_type": "execute_result"
    }
   ],
   "source": [
    "final_test_data_reindex = np.copy(final_test_data)\n",
    "final_test_data_reindex[:, 0] = reindex\n",
    "final_test_data_reindex"
   ]
  },
  {
   "cell_type": "code",
   "execution_count": 46,
   "id": "977a3b4c",
   "metadata": {},
   "outputs": [
    {
     "data": {
      "image/png": "[encoded data removed]",
      "text/plain": [
       "<Figure size 576x360 with 1 Axes>"
      ]
     },
     "metadata": {
      "needs_background": "light"
     },
     "output_type": "display_data"
    },
    {
     "data": {
      "image/png": "[encoded data removed]",
      "text/plain": [
       "<Figure size 576x360 with 1 Axes>"
      ]
     },
     "metadata": {
      "needs_background": "light"
     },
     "output_type": "display_data"
    },
    {
     "data": {
      "image/png": "[encoded data removed]",
      "text/plain": [
       "<Figure size 576x360 with 1 Axes>"
      ]
     },
     "metadata": {
      "needs_background": "light"
     },
     "output_type": "display_data"
    },
    {
     "data": {
      "image/png": "[encoded data removed]",
      "text/plain": [
       "<Figure size 576x360 with 1 Axes>"
      ]
     },
     "metadata": {
      "needs_background": "light"
     },
     "output_type": "display_data"
    },
    {
     "data": {
      "image/png": "[encoded data removed]",
      "text/plain": [
       "<Figure size 576x360 with 1 Axes>"
      ]
     },
     "metadata": {
      "needs_background": "light"
     },
     "output_type": "display_data"
    },
    {
     "data": {
      "image/png": "[encoded data removed]",
      "text/plain": [
       "<Figure size 576x360 with 1 Axes>"
      ]
     },
     "metadata": {
      "needs_background": "light"
     },
     "output_type": "display_data"
    },
    {
     "data": {
      "image/png": "[encoded data removed]",
      "text/plain": [
       "<Figure size 576x360 with 1 Axes>"
      ]
     },
     "metadata": {
      "needs_background": "light"
     },
     "output_type": "display_data"
    }
   ],
   "source": [
    "for i in range(1, 8):\n",
    "    \n",
    "    x = final_test_data_reindex[:, i].reshape(-1)\n",
    "    x_new = final_test_data_new_reindex[:, i].reshape(-1)\n",
    "    \n",
    "    plot_distribution(x, title=\"x{}\".format(i))\n"
   ]
  },
  {
   "cell_type": "code",
   "execution_count": 47,
   "id": "f7ac76cc",
   "metadata": {},
   "outputs": [
    {
     "data": {
      "image/png": "[encoded data removed]",
      "text/plain": [
       "<Figure size 576x360 with 1 Axes>"
      ]
     },
     "metadata": {
      "needs_background": "light"
     },
     "output_type": "display_data"
    },
    {
     "data": {
      "image/png": "[encoded data removed]",
      "text/plain": [
       "<Figure size 576x360 with 1 Axes>"
      ]
     },
     "metadata": {
      "needs_background": "light"
     },
     "output_type": "display_data"
    },
    {
     "data": {
      "image/png": "[encoded data removed]",
      "text/plain": [
       "<Figure size 576x360 with 1 Axes>"
      ]
     },
     "metadata": {
      "needs_background": "light"
     },
     "output_type": "display_data"
    },
    {
     "data": {
      "image/png": "[encoded data removed]",
      "text/plain": [
       "<Figure size 576x360 with 1 Axes>"
      ]
     },
     "metadata": {
      "needs_background": "light"
     },
     "output_type": "display_data"
    },
    {
     "data": {
      "image/png": "[encoded data removed]",
      "text/plain": [
       "<Figure size 576x360 with 1 Axes>"
      ]
     },
     "metadata": {
      "needs_background": "light"
     },
     "output_type": "display_data"
    },
    {
     "data": {
      "image/png": "[encoded data removed]",
      "text/plain": [
       "<Figure size 576x360 with 1 Axes>"
      ]
     },
     "metadata": {
      "needs_background": "light"
     },
     "output_type": "display_data"
    },
    {
     "data": {
      "image/png": "[encoded data removed]",
      "text/plain": [
       "<Figure size 576x360 with 1 Axes>"
      ]
     },
     "metadata": {
      "needs_background": "light"
     },
     "output_type": "display_data"
    }
   ],
   "source": [
    "for i in range(1, 8):\n",
    "    \n",
    "    x = final_test_data_reindex[:, i].reshape(-1)\n",
    "    x_new = final_test_data_new_reindex[:, i].reshape(-1)\n",
    "    \n",
    "    plot_distribution(x_new - x, title=\"x{}\".format(i))\n"
   ]
  },
  {
   "cell_type": "code",
   "execution_count": 48,
   "id": "d9156f2b",
   "metadata": {},
   "outputs": [
    {
     "data": {
      "text/html": [
       "<div>\n",
       "<style scoped>\n",
       "    .dataframe tbody tr th:only-of-type {\n",
       "        vertical-align: middle;\n",
       "    }\n",
       "\n",
       "    .dataframe tbody tr th {\n",
       "        vertical-align: top;\n",
       "    }\n",
       "\n",
       "    .dataframe thead th {\n",
       "        text-align: right;\n",
       "    }\n",
       "</style>\n",
       "<table border=\"1\" class=\"dataframe\">\n",
       "  <thead>\n",
       "    <tr style=\"text-align: right;\">\n",
       "      <th></th>\n",
       "      <th>id</th>\n",
       "      <th>x1</th>\n",
       "      <th>x2</th>\n",
       "      <th>x3</th>\n",
       "      <th>x4</th>\n",
       "      <th>x5</th>\n",
       "      <th>x6</th>\n",
       "      <th>x7</th>\n",
       "      <th>y</th>\n",
       "    </tr>\n",
       "  </thead>\n",
       "  <tbody>\n",
       "    <tr>\n",
       "      <th>0</th>\n",
       "      <td>0</td>\n",
       "      <td>63.360789</td>\n",
       "      <td>45.759224</td>\n",
       "      <td>13.159916</td>\n",
       "      <td>-2.069595</td>\n",
       "      <td>-1.090766</td>\n",
       "      <td>-1.210152</td>\n",
       "      <td>0</td>\n",
       "      <td>1.0</td>\n",
       "    </tr>\n",
       "    <tr>\n",
       "      <th>1</th>\n",
       "      <td>1</td>\n",
       "      <td>79.116932</td>\n",
       "      <td>52.669597</td>\n",
       "      <td>14.961216</td>\n",
       "      <td>-1.276017</td>\n",
       "      <td>-0.189885</td>\n",
       "      <td>-0.450437</td>\n",
       "      <td>1</td>\n",
       "      <td>1.0</td>\n",
       "    </tr>\n",
       "    <tr>\n",
       "      <th>2</th>\n",
       "      <td>2</td>\n",
       "      <td>51.373985</td>\n",
       "      <td>36.864098</td>\n",
       "      <td>12.092513</td>\n",
       "      <td>0.743636</td>\n",
       "      <td>0.792203</td>\n",
       "      <td>-0.353776</td>\n",
       "      <td>0</td>\n",
       "      <td>1.0</td>\n",
       "    </tr>\n",
       "    <tr>\n",
       "      <th>3</th>\n",
       "      <td>3</td>\n",
       "      <td>62.656922</td>\n",
       "      <td>26.930104</td>\n",
       "      <td>12.564673</td>\n",
       "      <td>-0.005148</td>\n",
       "      <td>1.503576</td>\n",
       "      <td>-0.241219</td>\n",
       "      <td>0</td>\n",
       "      <td>1.0</td>\n",
       "    </tr>\n",
       "    <tr>\n",
       "      <th>4</th>\n",
       "      <td>4</td>\n",
       "      <td>44.323646</td>\n",
       "      <td>39.236527</td>\n",
       "      <td>12.302052</td>\n",
       "      <td>-0.362842</td>\n",
       "      <td>0.386564</td>\n",
       "      <td>-1.124723</td>\n",
       "      <td>0</td>\n",
       "      <td>0.0</td>\n",
       "    </tr>\n",
       "    <tr>\n",
       "      <th>...</th>\n",
       "      <td>...</td>\n",
       "      <td>...</td>\n",
       "      <td>...</td>\n",
       "      <td>...</td>\n",
       "      <td>...</td>\n",
       "      <td>...</td>\n",
       "      <td>...</td>\n",
       "      <td>...</td>\n",
       "      <td>...</td>\n",
       "    </tr>\n",
       "    <tr>\n",
       "      <th>9995</th>\n",
       "      <td>9995</td>\n",
       "      <td>68.409495</td>\n",
       "      <td>39.184984</td>\n",
       "      <td>13.260200</td>\n",
       "      <td>-0.959393</td>\n",
       "      <td>0.158166</td>\n",
       "      <td>0.251586</td>\n",
       "      <td>0</td>\n",
       "      <td>1.0</td>\n",
       "    </tr>\n",
       "    <tr>\n",
       "      <th>9996</th>\n",
       "      <td>9996</td>\n",
       "      <td>48.098187</td>\n",
       "      <td>32.590837</td>\n",
       "      <td>11.370937</td>\n",
       "      <td>-0.757343</td>\n",
       "      <td>2.685132</td>\n",
       "      <td>-0.535296</td>\n",
       "      <td>0</td>\n",
       "      <td>1.0</td>\n",
       "    </tr>\n",
       "    <tr>\n",
       "      <th>9997</th>\n",
       "      <td>9997</td>\n",
       "      <td>53.160245</td>\n",
       "      <td>67.999517</td>\n",
       "      <td>13.710438</td>\n",
       "      <td>-1.027684</td>\n",
       "      <td>0.005136</td>\n",
       "      <td>-2.131630</td>\n",
       "      <td>0</td>\n",
       "      <td>0.0</td>\n",
       "    </tr>\n",
       "    <tr>\n",
       "      <th>9998</th>\n",
       "      <td>9998</td>\n",
       "      <td>28.149359</td>\n",
       "      <td>56.076768</td>\n",
       "      <td>11.368443</td>\n",
       "      <td>-0.006355</td>\n",
       "      <td>0.783878</td>\n",
       "      <td>-0.269101</td>\n",
       "      <td>1</td>\n",
       "      <td>1.0</td>\n",
       "    </tr>\n",
       "    <tr>\n",
       "      <th>9999</th>\n",
       "      <td>9999</td>\n",
       "      <td>64.089175</td>\n",
       "      <td>82.008618</td>\n",
       "      <td>16.805129</td>\n",
       "      <td>-1.080835</td>\n",
       "      <td>0.364768</td>\n",
       "      <td>-0.703612</td>\n",
       "      <td>1</td>\n",
       "      <td>1.0</td>\n",
       "    </tr>\n",
       "  </tbody>\n",
       "</table>\n",
       "<p>10000 rows × 9 columns</p>\n",
       "</div>"
      ],
      "text/plain": [
       "        id         x1         x2         x3        x4        x5        x6  x7  \\\n",
       "0        0  63.360789  45.759224  13.159916 -2.069595 -1.090766 -1.210152   0   \n",
       "1        1  79.116932  52.669597  14.961216 -1.276017 -0.189885 -0.450437   1   \n",
       "2        2  51.373985  36.864098  12.092513  0.743636  0.792203 -0.353776   0   \n",
       "3        3  62.656922  26.930104  12.564673 -0.005148  1.503576 -0.241219   0   \n",
       "4        4  44.323646  39.236527  12.302052 -0.362842  0.386564 -1.124723   0   \n",
       "...    ...        ...        ...        ...       ...       ...       ...  ..   \n",
       "9995  9995  68.409495  39.184984  13.260200 -0.959393  0.158166  0.251586   0   \n",
       "9996  9996  48.098187  32.590837  11.370937 -0.757343  2.685132 -0.535296   0   \n",
       "9997  9997  53.160245  67.999517  13.710438 -1.027684  0.005136 -2.131630   0   \n",
       "9998  9998  28.149359  56.076768  11.368443 -0.006355  0.783878 -0.269101   1   \n",
       "9999  9999  64.089175  82.008618  16.805129 -1.080835  0.364768 -0.703612   1   \n",
       "\n",
       "        y  \n",
       "0     1.0  \n",
       "1     1.0  \n",
       "2     1.0  \n",
       "3     1.0  \n",
       "4     0.0  \n",
       "...   ...  \n",
       "9995  1.0  \n",
       "9996  1.0  \n",
       "9997  0.0  \n",
       "9998  1.0  \n",
       "9999  1.0  \n",
       "\n",
       "[10000 rows x 9 columns]"
      ]
     },
     "execution_count": 48,
     "metadata": {},
     "output_type": "execute_result"
    }
   ],
   "source": [
    "import pandas as pd\n",
    "\n",
    "df_column_name_list = ['id', 'x1', 'x2', 'x3', 'x4', 'x5', 'x6', 'x7', 'y']\n",
    "\n",
    "train_data_df = pd.DataFrame(data=train_data, columns=df_column_name_list)\n",
    "train_data_df['id'] = train_data_df['id'].astype(int)\n",
    "train_data_df['x7'] = train_data_df['x7'].astype(int)\n",
    "\n",
    "train_data_df"
   ]
  },
  {
   "cell_type": "code",
   "execution_count": 49,
   "id": "11699670",
   "metadata": {},
   "outputs": [
    {
     "data": {
      "text/html": [
       "<div>\n",
       "<style scoped>\n",
       "    .dataframe tbody tr th:only-of-type {\n",
       "        vertical-align: middle;\n",
       "    }\n",
       "\n",
       "    .dataframe tbody tr th {\n",
       "        vertical-align: top;\n",
       "    }\n",
       "\n",
       "    .dataframe thead th {\n",
       "        text-align: right;\n",
       "    }\n",
       "</style>\n",
       "<table border=\"1\" class=\"dataframe\">\n",
       "  <thead>\n",
       "    <tr style=\"text-align: right;\">\n",
       "      <th></th>\n",
       "      <th>id</th>\n",
       "      <th>x1</th>\n",
       "      <th>x2</th>\n",
       "      <th>x3</th>\n",
       "      <th>x4</th>\n",
       "      <th>x5</th>\n",
       "      <th>x6</th>\n",
       "      <th>x7</th>\n",
       "      <th>y</th>\n",
       "    </tr>\n",
       "  </thead>\n",
       "  <tbody>\n",
       "    <tr>\n",
       "      <th>0</th>\n",
       "      <td>0</td>\n",
       "      <td>63.622540</td>\n",
       "      <td>45.181718</td>\n",
       "      <td>13.574389</td>\n",
       "      <td>-1.260719</td>\n",
       "      <td>-1.090766</td>\n",
       "      <td>-1.210152</td>\n",
       "      <td>0</td>\n",
       "      <td>0.0</td>\n",
       "    </tr>\n",
       "    <tr>\n",
       "      <th>1</th>\n",
       "      <td>1</td>\n",
       "      <td>88.270410</td>\n",
       "      <td>49.694017</td>\n",
       "      <td>16.498228</td>\n",
       "      <td>0.172817</td>\n",
       "      <td>-0.189885</td>\n",
       "      <td>0.271987</td>\n",
       "      <td>1</td>\n",
       "      <td>0.0</td>\n",
       "    </tr>\n",
       "    <tr>\n",
       "      <th>2</th>\n",
       "      <td>2</td>\n",
       "      <td>60.502929</td>\n",
       "      <td>45.581152</td>\n",
       "      <td>14.540185</td>\n",
       "      <td>1.279544</td>\n",
       "      <td>0.792203</td>\n",
       "      <td>-0.353776</td>\n",
       "      <td>0</td>\n",
       "      <td>0.0</td>\n",
       "    </tr>\n",
       "    <tr>\n",
       "      <th>3</th>\n",
       "      <td>3</td>\n",
       "      <td>66.362503</td>\n",
       "      <td>22.347963</td>\n",
       "      <td>11.921310</td>\n",
       "      <td>1.310091</td>\n",
       "      <td>1.503576</td>\n",
       "      <td>-0.241219</td>\n",
       "      <td>0</td>\n",
       "      <td>0.0</td>\n",
       "    </tr>\n",
       "    <tr>\n",
       "      <th>4</th>\n",
       "      <td>4</td>\n",
       "      <td>47.652793</td>\n",
       "      <td>41.910513</td>\n",
       "      <td>12.072816</td>\n",
       "      <td>0.360117</td>\n",
       "      <td>0.386564</td>\n",
       "      <td>-1.124723</td>\n",
       "      <td>0</td>\n",
       "      <td>0.0</td>\n",
       "    </tr>\n",
       "    <tr>\n",
       "      <th>...</th>\n",
       "      <td>...</td>\n",
       "      <td>...</td>\n",
       "      <td>...</td>\n",
       "      <td>...</td>\n",
       "      <td>...</td>\n",
       "      <td>...</td>\n",
       "      <td>...</td>\n",
       "      <td>...</td>\n",
       "      <td>...</td>\n",
       "    </tr>\n",
       "    <tr>\n",
       "      <th>9995</th>\n",
       "      <td>9995</td>\n",
       "      <td>63.369119</td>\n",
       "      <td>41.482953</td>\n",
       "      <td>13.189151</td>\n",
       "      <td>0.191901</td>\n",
       "      <td>0.158166</td>\n",
       "      <td>0.251586</td>\n",
       "      <td>0</td>\n",
       "      <td>1.0</td>\n",
       "    </tr>\n",
       "    <tr>\n",
       "      <th>9996</th>\n",
       "      <td>9996</td>\n",
       "      <td>45.145908</td>\n",
       "      <td>33.390420</td>\n",
       "      <td>11.857936</td>\n",
       "      <td>0.130301</td>\n",
       "      <td>2.685132</td>\n",
       "      <td>-0.535296</td>\n",
       "      <td>0</td>\n",
       "      <td>1.0</td>\n",
       "    </tr>\n",
       "    <tr>\n",
       "      <th>9997</th>\n",
       "      <td>9997</td>\n",
       "      <td>56.971741</td>\n",
       "      <td>61.430191</td>\n",
       "      <td>14.369715</td>\n",
       "      <td>-0.102821</td>\n",
       "      <td>0.005136</td>\n",
       "      <td>-2.131630</td>\n",
       "      <td>0</td>\n",
       "      <td>0.0</td>\n",
       "    </tr>\n",
       "    <tr>\n",
       "      <th>9998</th>\n",
       "      <td>9998</td>\n",
       "      <td>25.792137</td>\n",
       "      <td>59.218230</td>\n",
       "      <td>12.144089</td>\n",
       "      <td>0.792940</td>\n",
       "      <td>0.783878</td>\n",
       "      <td>-0.366236</td>\n",
       "      <td>1</td>\n",
       "      <td>0.0</td>\n",
       "    </tr>\n",
       "    <tr>\n",
       "      <th>9999</th>\n",
       "      <td>9999</td>\n",
       "      <td>48.673179</td>\n",
       "      <td>84.730343</td>\n",
       "      <td>15.799688</td>\n",
       "      <td>-0.745536</td>\n",
       "      <td>0.364768</td>\n",
       "      <td>-0.871876</td>\n",
       "      <td>1</td>\n",
       "      <td>0.0</td>\n",
       "    </tr>\n",
       "  </tbody>\n",
       "</table>\n",
       "<p>10000 rows × 9 columns</p>\n",
       "</div>"
      ],
      "text/plain": [
       "        id         x1         x2         x3        x4        x5        x6  x7  \\\n",
       "0        0  63.622540  45.181718  13.574389 -1.260719 -1.090766 -1.210152   0   \n",
       "1        1  88.270410  49.694017  16.498228  0.172817 -0.189885  0.271987   1   \n",
       "2        2  60.502929  45.581152  14.540185  1.279544  0.792203 -0.353776   0   \n",
       "3        3  66.362503  22.347963  11.921310  1.310091  1.503576 -0.241219   0   \n",
       "4        4  47.652793  41.910513  12.072816  0.360117  0.386564 -1.124723   0   \n",
       "...    ...        ...        ...        ...       ...       ...       ...  ..   \n",
       "9995  9995  63.369119  41.482953  13.189151  0.191901  0.158166  0.251586   0   \n",
       "9996  9996  45.145908  33.390420  11.857936  0.130301  2.685132 -0.535296   0   \n",
       "9997  9997  56.971741  61.430191  14.369715 -0.102821  0.005136 -2.131630   0   \n",
       "9998  9998  25.792137  59.218230  12.144089  0.792940  0.783878 -0.366236   1   \n",
       "9999  9999  48.673179  84.730343  15.799688 -0.745536  0.364768 -0.871876   1   \n",
       "\n",
       "        y  \n",
       "0     0.0  \n",
       "1     0.0  \n",
       "2     0.0  \n",
       "3     0.0  \n",
       "4     0.0  \n",
       "...   ...  \n",
       "9995  1.0  \n",
       "9996  1.0  \n",
       "9997  0.0  \n",
       "9998  0.0  \n",
       "9999  0.0  \n",
       "\n",
       "[10000 rows x 9 columns]"
      ]
     },
     "execution_count": 49,
     "metadata": {},
     "output_type": "execute_result"
    }
   ],
   "source": [
    "train_data_new_df = pd.DataFrame(data=train_data_new, columns=df_column_name_list)\n",
    "train_data_new_df['id'] = train_data_new_df['id'].astype(int)\n",
    "train_data_new_df['x7'] = train_data_new_df['x7'].astype(int)\n",
    "\n",
    "train_data_new_df"
   ]
  },
  {
   "cell_type": "code",
   "execution_count": 50,
   "id": "b135357b",
   "metadata": {},
   "outputs": [
    {
     "data": {
      "text/html": [
       "<div>\n",
       "<style scoped>\n",
       "    .dataframe tbody tr th:only-of-type {\n",
       "        vertical-align: middle;\n",
       "    }\n",
       "\n",
       "    .dataframe tbody tr th {\n",
       "        vertical-align: top;\n",
       "    }\n",
       "\n",
       "    .dataframe thead th {\n",
       "        text-align: right;\n",
       "    }\n",
       "</style>\n",
       "<table border=\"1\" class=\"dataframe\">\n",
       "  <thead>\n",
       "    <tr style=\"text-align: right;\">\n",
       "      <th></th>\n",
       "      <th>id</th>\n",
       "      <th>x1</th>\n",
       "      <th>x2</th>\n",
       "      <th>x3</th>\n",
       "      <th>x4</th>\n",
       "      <th>x5</th>\n",
       "      <th>x6</th>\n",
       "      <th>x7</th>\n",
       "      <th>y</th>\n",
       "    </tr>\n",
       "  </thead>\n",
       "  <tbody>\n",
       "    <tr>\n",
       "      <th>0</th>\n",
       "      <td>10000</td>\n",
       "      <td>23.273951</td>\n",
       "      <td>39.585634</td>\n",
       "      <td>11.641108</td>\n",
       "      <td>0.858397</td>\n",
       "      <td>0.255481</td>\n",
       "      <td>0.820852</td>\n",
       "      <td>1</td>\n",
       "      <td>0.0</td>\n",
       "    </tr>\n",
       "    <tr>\n",
       "      <th>1</th>\n",
       "      <td>10001</td>\n",
       "      <td>68.327022</td>\n",
       "      <td>13.977304</td>\n",
       "      <td>12.670759</td>\n",
       "      <td>-0.360402</td>\n",
       "      <td>0.919841</td>\n",
       "      <td>0.102790</td>\n",
       "      <td>1</td>\n",
       "      <td>0.0</td>\n",
       "    </tr>\n",
       "    <tr>\n",
       "      <th>2</th>\n",
       "      <td>10002</td>\n",
       "      <td>49.414612</td>\n",
       "      <td>68.875414</td>\n",
       "      <td>14.008800</td>\n",
       "      <td>-0.149808</td>\n",
       "      <td>-0.224836</td>\n",
       "      <td>-0.461851</td>\n",
       "      <td>1</td>\n",
       "      <td>0.0</td>\n",
       "    </tr>\n",
       "    <tr>\n",
       "      <th>3</th>\n",
       "      <td>10003</td>\n",
       "      <td>70.027209</td>\n",
       "      <td>72.294902</td>\n",
       "      <td>16.997845</td>\n",
       "      <td>0.230585</td>\n",
       "      <td>0.669857</td>\n",
       "      <td>-0.108737</td>\n",
       "      <td>0</td>\n",
       "      <td>0.0</td>\n",
       "    </tr>\n",
       "    <tr>\n",
       "      <th>4</th>\n",
       "      <td>10004</td>\n",
       "      <td>85.294771</td>\n",
       "      <td>33.848765</td>\n",
       "      <td>15.029097</td>\n",
       "      <td>0.157015</td>\n",
       "      <td>-0.250432</td>\n",
       "      <td>1.289808</td>\n",
       "      <td>0</td>\n",
       "      <td>0.0</td>\n",
       "    </tr>\n",
       "    <tr>\n",
       "      <th>...</th>\n",
       "      <td>...</td>\n",
       "      <td>...</td>\n",
       "      <td>...</td>\n",
       "      <td>...</td>\n",
       "      <td>...</td>\n",
       "      <td>...</td>\n",
       "      <td>...</td>\n",
       "      <td>...</td>\n",
       "      <td>...</td>\n",
       "    </tr>\n",
       "    <tr>\n",
       "      <th>1995</th>\n",
       "      <td>11995</td>\n",
       "      <td>46.829922</td>\n",
       "      <td>43.948863</td>\n",
       "      <td>13.438397</td>\n",
       "      <td>0.797873</td>\n",
       "      <td>0.436130</td>\n",
       "      <td>0.898899</td>\n",
       "      <td>1</td>\n",
       "      <td>0.0</td>\n",
       "    </tr>\n",
       "    <tr>\n",
       "      <th>1996</th>\n",
       "      <td>11996</td>\n",
       "      <td>42.028397</td>\n",
       "      <td>34.847544</td>\n",
       "      <td>12.892535</td>\n",
       "      <td>-0.472730</td>\n",
       "      <td>0.354086</td>\n",
       "      <td>-0.004849</td>\n",
       "      <td>1</td>\n",
       "      <td>0.0</td>\n",
       "    </tr>\n",
       "    <tr>\n",
       "      <th>1997</th>\n",
       "      <td>11997</td>\n",
       "      <td>61.843318</td>\n",
       "      <td>38.167637</td>\n",
       "      <td>13.236204</td>\n",
       "      <td>-0.250693</td>\n",
       "      <td>0.423148</td>\n",
       "      <td>-0.580262</td>\n",
       "      <td>1</td>\n",
       "      <td>0.0</td>\n",
       "    </tr>\n",
       "    <tr>\n",
       "      <th>1998</th>\n",
       "      <td>11998</td>\n",
       "      <td>32.502460</td>\n",
       "      <td>66.280140</td>\n",
       "      <td>14.127770</td>\n",
       "      <td>-0.847998</td>\n",
       "      <td>0.177015</td>\n",
       "      <td>0.220678</td>\n",
       "      <td>0</td>\n",
       "      <td>0.0</td>\n",
       "    </tr>\n",
       "    <tr>\n",
       "      <th>1999</th>\n",
       "      <td>11999</td>\n",
       "      <td>47.099611</td>\n",
       "      <td>62.571413</td>\n",
       "      <td>14.219679</td>\n",
       "      <td>0.193101</td>\n",
       "      <td>-0.782339</td>\n",
       "      <td>0.293787</td>\n",
       "      <td>1</td>\n",
       "      <td>0.0</td>\n",
       "    </tr>\n",
       "  </tbody>\n",
       "</table>\n",
       "<p>2000 rows × 9 columns</p>\n",
       "</div>"
      ],
      "text/plain": [
       "         id         x1         x2         x3        x4        x5        x6  \\\n",
       "0     10000  23.273951  39.585634  11.641108  0.858397  0.255481  0.820852   \n",
       "1     10001  68.327022  13.977304  12.670759 -0.360402  0.919841  0.102790   \n",
       "2     10002  49.414612  68.875414  14.008800 -0.149808 -0.224836 -0.461851   \n",
       "3     10003  70.027209  72.294902  16.997845  0.230585  0.669857 -0.108737   \n",
       "4     10004  85.294771  33.848765  15.029097  0.157015 -0.250432  1.289808   \n",
       "...     ...        ...        ...        ...       ...       ...       ...   \n",
       "1995  11995  46.829922  43.948863  13.438397  0.797873  0.436130  0.898899   \n",
       "1996  11996  42.028397  34.847544  12.892535 -0.472730  0.354086 -0.004849   \n",
       "1997  11997  61.843318  38.167637  13.236204 -0.250693  0.423148 -0.580262   \n",
       "1998  11998  32.502460  66.280140  14.127770 -0.847998  0.177015  0.220678   \n",
       "1999  11999  47.099611  62.571413  14.219679  0.193101 -0.782339  0.293787   \n",
       "\n",
       "      x7    y  \n",
       "0      1  0.0  \n",
       "1      1  0.0  \n",
       "2      1  0.0  \n",
       "3      0  0.0  \n",
       "4      0  0.0  \n",
       "...   ..  ...  \n",
       "1995   1  0.0  \n",
       "1996   1  0.0  \n",
       "1997   1  0.0  \n",
       "1998   0  0.0  \n",
       "1999   1  0.0  \n",
       "\n",
       "[2000 rows x 9 columns]"
      ]
     },
     "execution_count": 50,
     "metadata": {},
     "output_type": "execute_result"
    }
   ],
   "source": [
    "test_data_df = pd.DataFrame(data=final_test_data_reindex, columns=df_column_name_list)\n",
    "test_data_df['id'] = test_data_df['id'].astype(int)\n",
    "test_data_df['x7'] = test_data_df['x7'].astype(int)\n",
    "\n",
    "test_data_df"
   ]
  },
  {
   "cell_type": "code",
   "execution_count": 51,
   "id": "c42f96b8",
   "metadata": {},
   "outputs": [
    {
     "data": {
      "text/html": [
       "<div>\n",
       "<style scoped>\n",
       "    .dataframe tbody tr th:only-of-type {\n",
       "        vertical-align: middle;\n",
       "    }\n",
       "\n",
       "    .dataframe tbody tr th {\n",
       "        vertical-align: top;\n",
       "    }\n",
       "\n",
       "    .dataframe thead th {\n",
       "        text-align: right;\n",
       "    }\n",
       "</style>\n",
       "<table border=\"1\" class=\"dataframe\">\n",
       "  <thead>\n",
       "    <tr style=\"text-align: right;\">\n",
       "      <th></th>\n",
       "      <th>id</th>\n",
       "      <th>x1</th>\n",
       "      <th>x2</th>\n",
       "      <th>x3</th>\n",
       "      <th>x4</th>\n",
       "      <th>x5</th>\n",
       "      <th>x6</th>\n",
       "      <th>x7</th>\n",
       "      <th>y</th>\n",
       "    </tr>\n",
       "  </thead>\n",
       "  <tbody>\n",
       "    <tr>\n",
       "      <th>0</th>\n",
       "      <td>10000</td>\n",
       "      <td>37.809999</td>\n",
       "      <td>48.218409</td>\n",
       "      <td>12.496043</td>\n",
       "      <td>1.442018</td>\n",
       "      <td>0.255481</td>\n",
       "      <td>1.520264</td>\n",
       "      <td>1</td>\n",
       "      <td>1.0</td>\n",
       "    </tr>\n",
       "    <tr>\n",
       "      <th>1</th>\n",
       "      <td>10001</td>\n",
       "      <td>72.493869</td>\n",
       "      <td>22.962106</td>\n",
       "      <td>12.632457</td>\n",
       "      <td>0.533321</td>\n",
       "      <td>0.919841</td>\n",
       "      <td>0.292623</td>\n",
       "      <td>1</td>\n",
       "      <td>1.0</td>\n",
       "    </tr>\n",
       "    <tr>\n",
       "      <th>2</th>\n",
       "      <td>10002</td>\n",
       "      <td>48.589357</td>\n",
       "      <td>74.175800</td>\n",
       "      <td>13.814762</td>\n",
       "      <td>0.524516</td>\n",
       "      <td>-0.224836</td>\n",
       "      <td>0.058401</td>\n",
       "      <td>1</td>\n",
       "      <td>1.0</td>\n",
       "    </tr>\n",
       "    <tr>\n",
       "      <th>3</th>\n",
       "      <td>10003</td>\n",
       "      <td>70.393428</td>\n",
       "      <td>80.499912</td>\n",
       "      <td>16.416013</td>\n",
       "      <td>0.853889</td>\n",
       "      <td>0.669857</td>\n",
       "      <td>-0.108737</td>\n",
       "      <td>0</td>\n",
       "      <td>1.0</td>\n",
       "    </tr>\n",
       "    <tr>\n",
       "      <th>4</th>\n",
       "      <td>10004</td>\n",
       "      <td>83.493980</td>\n",
       "      <td>31.928322</td>\n",
       "      <td>13.529902</td>\n",
       "      <td>0.770963</td>\n",
       "      <td>-0.250432</td>\n",
       "      <td>1.289808</td>\n",
       "      <td>0</td>\n",
       "      <td>1.0</td>\n",
       "    </tr>\n",
       "    <tr>\n",
       "      <th>...</th>\n",
       "      <td>...</td>\n",
       "      <td>...</td>\n",
       "      <td>...</td>\n",
       "      <td>...</td>\n",
       "      <td>...</td>\n",
       "      <td>...</td>\n",
       "      <td>...</td>\n",
       "      <td>...</td>\n",
       "      <td>...</td>\n",
       "    </tr>\n",
       "    <tr>\n",
       "      <th>1995</th>\n",
       "      <td>11995</td>\n",
       "      <td>62.575137</td>\n",
       "      <td>44.392659</td>\n",
       "      <td>13.282689</td>\n",
       "      <td>1.860558</td>\n",
       "      <td>0.436130</td>\n",
       "      <td>1.173280</td>\n",
       "      <td>1</td>\n",
       "      <td>1.0</td>\n",
       "    </tr>\n",
       "    <tr>\n",
       "      <th>1996</th>\n",
       "      <td>11996</td>\n",
       "      <td>34.391604</td>\n",
       "      <td>46.120661</td>\n",
       "      <td>11.692622</td>\n",
       "      <td>0.075932</td>\n",
       "      <td>0.354086</td>\n",
       "      <td>0.451190</td>\n",
       "      <td>1</td>\n",
       "      <td>1.0</td>\n",
       "    </tr>\n",
       "    <tr>\n",
       "      <th>1997</th>\n",
       "      <td>11997</td>\n",
       "      <td>56.861331</td>\n",
       "      <td>50.479343</td>\n",
       "      <td>12.973841</td>\n",
       "      <td>0.696881</td>\n",
       "      <td>0.423148</td>\n",
       "      <td>0.054946</td>\n",
       "      <td>1</td>\n",
       "      <td>1.0</td>\n",
       "    </tr>\n",
       "    <tr>\n",
       "      <th>1998</th>\n",
       "      <td>11998</td>\n",
       "      <td>40.567938</td>\n",
       "      <td>62.803412</td>\n",
       "      <td>13.318014</td>\n",
       "      <td>0.138949</td>\n",
       "      <td>0.177015</td>\n",
       "      <td>0.220678</td>\n",
       "      <td>0</td>\n",
       "      <td>1.0</td>\n",
       "    </tr>\n",
       "    <tr>\n",
       "      <th>1999</th>\n",
       "      <td>11999</td>\n",
       "      <td>52.867838</td>\n",
       "      <td>61.388310</td>\n",
       "      <td>12.425493</td>\n",
       "      <td>0.579073</td>\n",
       "      <td>-0.782339</td>\n",
       "      <td>0.902067</td>\n",
       "      <td>1</td>\n",
       "      <td>1.0</td>\n",
       "    </tr>\n",
       "  </tbody>\n",
       "</table>\n",
       "<p>2000 rows × 9 columns</p>\n",
       "</div>"
      ],
      "text/plain": [
       "         id         x1         x2         x3        x4        x5        x6  \\\n",
       "0     10000  37.809999  48.218409  12.496043  1.442018  0.255481  1.520264   \n",
       "1     10001  72.493869  22.962106  12.632457  0.533321  0.919841  0.292623   \n",
       "2     10002  48.589357  74.175800  13.814762  0.524516 -0.224836  0.058401   \n",
       "3     10003  70.393428  80.499912  16.416013  0.853889  0.669857 -0.108737   \n",
       "4     10004  83.493980  31.928322  13.529902  0.770963 -0.250432  1.289808   \n",
       "...     ...        ...        ...        ...       ...       ...       ...   \n",
       "1995  11995  62.575137  44.392659  13.282689  1.860558  0.436130  1.173280   \n",
       "1996  11996  34.391604  46.120661  11.692622  0.075932  0.354086  0.451190   \n",
       "1997  11997  56.861331  50.479343  12.973841  0.696881  0.423148  0.054946   \n",
       "1998  11998  40.567938  62.803412  13.318014  0.138949  0.177015  0.220678   \n",
       "1999  11999  52.867838  61.388310  12.425493  0.579073 -0.782339  0.902067   \n",
       "\n",
       "      x7    y  \n",
       "0      1  1.0  \n",
       "1      1  1.0  \n",
       "2      1  1.0  \n",
       "3      0  1.0  \n",
       "4      0  1.0  \n",
       "...   ..  ...  \n",
       "1995   1  1.0  \n",
       "1996   1  1.0  \n",
       "1997   1  1.0  \n",
       "1998   0  1.0  \n",
       "1999   1  1.0  \n",
       "\n",
       "[2000 rows x 9 columns]"
      ]
     },
     "execution_count": 51,
     "metadata": {},
     "output_type": "execute_result"
    }
   ],
   "source": [
    "test_data_new_df = pd.DataFrame(data=final_test_data_new_reindex, columns=df_column_name_list)\n",
    "test_data_new_df['id'] = test_data_new_df['id'].astype(int)\n",
    "test_data_new_df['x7'] = test_data_new_df['x7'].astype(int)\n",
    "\n",
    "test_data_new_df"
   ]
  },
  {
   "cell_type": "code",
   "execution_count": 52,
   "id": "291089bf",
   "metadata": {},
   "outputs": [],
   "source": [
    "train_data_df.to_csv(save_path + 'train_data.csv', index=False)\n",
    "train_data_new_df.to_csv(save_path + 'train_data_new.csv', index=False)\n",
    "test_data_df.to_csv(save_path + 'test_data.csv', index=False)\n",
    "test_data_new_df.to_csv(save_path + 'test_data_new.csv', index=False)"
   ]
  }
 ],
 "metadata": {
  "kernelspec": {
   "display_name": "Python 3",
   "language": "python",
   "name": "python3"
  },
  "language_info": {
   "codemirror_mode": {
    "name": "ipython",
    "version": 3
   },
   "file_extension": ".py",
   "mimetype": "text/x-python",
   "name": "python",
   "nbconvert_exporter": "python",
   "pygments_lexer": "ipython3",
   "version": "3.6.13"
  }
 },
 "nbformat": 4,
 "nbformat_minor": 5
}
